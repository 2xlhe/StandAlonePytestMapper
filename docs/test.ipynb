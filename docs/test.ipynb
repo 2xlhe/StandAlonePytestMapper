{
 "cells": [
  {
   "cell_type": "code",
   "execution_count": 1,
   "metadata": {},
   "outputs": [],
   "source": [
    "from relatory import PdfMaker\n",
    "import pandas as pd\n",
    "from logDataclasses import TestData\n",
    "from logExtractor import PytestArtifactLogExtractor\n",
    "import argparse\n",
    "import re"
   ]
  },
  {
   "cell_type": "code",
   "execution_count": 2,
   "metadata": {},
   "outputs": [
    {
     "name": "stdout",
     "output_type": "stream",
     "text": [
      "Extracting data out of ../local-pytest-output.20250307T140528.log\n",
      "<class 'pandas.core.frame.DataFrame'>\n",
      "Generating Relatory...\n"
     ]
    }
   ],
   "source": [
    "path = \"../local-pytest-output.20250307T140528.log\"\n",
    "print(f'Extracting data out of {path}')\n",
    "\n",
    "p  = PytestArtifactLogExtractor(path)\n",
    "\n",
    "execution_entity, artifact, tests, execution_time, failures = p.log_to_df()\n",
    "t = TestData(execution_entity=execution_entity, artifact=artifact, tests=tests, execution_time=execution_time, failures=failures)\n",
    "\n",
    "print('Generating Relatory...')\n",
    "pdf = PdfMaker(t)\n",
    "pdf.create_pdf()\n"
   ]
  }
 ],
 "metadata": {
  "kernelspec": {
   "display_name": "Python 3",
   "language": "python",
   "name": "python3"
  },
  "language_info": {
   "codemirror_mode": {
    "name": "ipython",
    "version": 3
   },
   "file_extension": ".py",
   "mimetype": "text/x-python",
   "name": "python",
   "nbconvert_exporter": "python",
   "pygments_lexer": "ipython3",
   "version": "3.10.12"
  }
 },
 "nbformat": 4,
 "nbformat_minor": 2
}
