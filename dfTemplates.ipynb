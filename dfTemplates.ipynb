{
 "cells": [
  {
   "cell_type": "code",
   "execution_count": 1,
   "metadata": {},
   "outputs": [],
   "source": [
    "from dataclasses import dataclass, asdict, fields\n",
    "from typing import Optional\n",
    "import numpy as np\n",
    "import pandas as pd\n",
    "import plotly.express as px\n",
    "from dataPotter import DataPlotter\n"
   ]
  },
  {
   "cell_type": "markdown",
   "metadata": {},
   "source": [
    "## Dataclasses Declaration"
   ]
  },
  {
   "cell_type": "code",
   "execution_count": 2,
   "metadata": {},
   "outputs": [],
   "source": [
    "@dataclass\n",
    "class ExecutionEntity:\n",
    "    Execution_DateTime: np.datetime64\n",
    "    Endpoint: str\n",
    "    Run_Time: float\n",
    "\n",
    "@dataclass\n",
    "class Artifact:\n",
    "    Name: str\n",
    "    Execution_DateTime: np.datetime64\n",
    "\n",
    "@dataclass\n",
    "class ArtifactInfo:\n",
    "    Artifact_Name: str\n",
    "    URL: Optional[str]   #url to the object stored on the cloud, can be null\n",
    "    Artifact_Type: str\n",
    "    File_Extension: str\n",
    "\n",
    "@dataclass\n",
    "class Tests:\n",
    "    Artifact_Name: str\n",
    "    Name: str\n",
    "    Category: str\n",
    "    Status: str\n",
    "    Arguments: Optional[str]  # Sometimes details the arguments they receive \n",
    "    Execution_DateTime: np.datetime64\n",
    "\n",
    "@dataclass\n",
    "class ExecutionTime:\n",
    "    Execution_name: str  # Can be Test_Name, fixture, or function\n",
    "    Execution_type: str\n",
    "    Execution_DateTime: np.datetime64\n",
    "    Number_Runs: int\n",
    "    Avg_Time: float\n",
    "    Min_Time: float\n",
    "    Total_Time: float\n",
    "\n",
    "@dataclass\n",
    "class Failures:\n",
    "    Artifact_Name: str\n",
    "    Test_Name: str\n",
    "    Execution_DateTime: np.datetime64\n",
    "    Error: str\n",
    "    Details: Optional[str]  # Retrieved pytest error description\n",
    "\n",
    "@dataclass\n",
    "class TestData:\n",
    "    execution_entity: list[ExecutionEntity]\n",
    "    artifact: list[Artifact]\n",
    "    artifact_info: list[ArtifactInfo]\n",
    "    tests: list[Tests]\n",
    "    execution_time: list[ExecutionTime]\n",
    "    failures: list[Failures]\n",
    "\n",
    "def get_field_names(Dataclass: type) -> list[str]:\n",
    "    return [field.name for field in fields(Dataclass)]\n"
   ]
  },
  {
   "cell_type": "code",
   "execution_count": 11,
   "metadata": {},
   "outputs": [
    {
     "name": "stdout",
     "output_type": "stream",
     "text": [
      "  Test_Name   Error Execution_DateTime Details\n",
      "0     Test1  Error1         2023-01-01    None\n",
      "1     Test2  Error2         2023-01-02    None\n",
      "2     Test3  Error3         2023-01-03    None\n"
     ]
    }
   ],
   "source": [
    "# Mock data for tests\n",
    "tests_data = {\n",
    "    'Test_Name': ['Test1', 'Test1', 'Test2', 'Test2', 'Test3', 'Test3'],\n",
    "    'Name': ['Test1', 'Test1', 'Test2', 'Test2', 'Test3', 'Test3'],\n",
    "    'Category': ['A', 'B', 'A', 'B', 'A', 'B'],\n",
    "    'Status': ['PASSED', 'FAILED', 'PASSED', 'FAILED', 'PASSED', 'FAILED'],\n",
    "    'Execution_DateTime': [pd.to_datetime('2023-01-01'), pd.to_datetime('2023-01-01'), pd.to_datetime('2023-01-02'), pd.to_datetime('2023-01-02'), pd.to_datetime('2023-01-03'), pd.to_datetime('2023-01-03')],\n",
    "    'Arguments': [None, None, None, None, None, None]\n",
    "}\n",
    "\n",
    "tests_df = pd.DataFrame(tests_data)\n",
    "\n",
    "# Mock data for failures\n",
    "failures_data = {\n",
    "    'Test_Name': ['Test1', 'Test2', 'Test3'],\n",
    "    'Error': ['Error1', 'Error2', 'Error3'],\n",
    "    'Execution_DateTime': [pd.to_datetime('2023-01-01'), pd.to_datetime('2023-01-02'), pd.to_datetime('2023-01-03')],\n",
    "    'Details': [None, None, None]\n",
    "}\n",
    "\n",
    "failures_df = pd.DataFrame(failures_data)\n",
    "\n",
    "# Mock data for execution time\n",
    "execution_time_data = {\n",
    "    'Execution_name': ['Test1', 'Test2', 'Test3'],\n",
    "    'Execution_type': ['Test', 'Test', 'Test'],\n",
    "    'Execution_DateTime': [pd.to_datetime('2023-01-01'), pd.to_datetime('2023-01-02'), pd.to_datetime('2023-01-03')],\n",
    "    'Number_Runs': [1, 2, 3],\n",
    "    'Avg_Time': [10.0, 20.0, 30.0],\n",
    "    'Min_Time': [5.0, 10.0, 15.0],\n",
    "    'Total_Time': [10.0, 40.0, 90.0]\n",
    "}\n",
    "\n",
    "execution_time_df = pd.DataFrame(execution_time_data)\n",
    "\n",
    "# Mock data for artifact info\n",
    "artifact_info_data = {\n",
    "    'Artifact_Name': ['Artifact1', 'Artifact2', 'Artifact3'],\n",
    "    'URL': ['https://example.com/artifact1', None, 'https://example.com/artifact3'],\n",
    "    'Artifact_Type': ['Type1', 'Type2', 'Type3'],\n",
    "    'File_Extension': ['.txt', '.pdf', '.docx']\n",
    "}\n",
    "\n",
    "artifact_info_df = pd.DataFrame(artifact_info_data)\n",
    "\n",
    "# Mock data for execution entity\n",
    "execution_entity_data = {\n",
    "    'Execution_DateTime': [pd.to_datetime('2023-01-01'), pd.to_datetime('2023-01-02'), pd.to_datetime('2023-01-03')],\n",
    "    'Endpoint': ['Endpoint1', 'Endpoint2', 'Endpoint3'],\n",
    "    'Run_Time': [10.0, 20.0, 30.0]\n",
    "}\n",
    "\n",
    "execution_entity_df = pd.DataFrame(execution_entity_data)\n",
    "\n",
    "# Mock data for artifacts\n",
    "artifacts_data = {\n",
    "    'Name': ['Artifact1', 'Artifact2', 'Artifact3'],\n",
    "    'Execution_DateTime': [pd.to_datetime('2023-01-01'), pd.to_datetime('2023-01-02'), pd.to_datetime('2023-01-03')]\n",
    "}\n",
    "\n",
    "artifacts_df = pd.DataFrame(artifacts_data)\n",
    "\n",
    "# Create a TestData object\n",
    "class TestData:\n",
    "    def __init__(self, execution_entity, artifact, artifact_info, tests, execution_time, failures):\n",
    "        self.execution_entity = execution_entity\n",
    "        self.artifact = artifact\n",
    "        self.artifact_info = artifact_info\n",
    "        self.tests = tests\n",
    "        self.execution_time = execution_time\n",
    "        self.failures = failures\n",
    "        print(failures)\n",
    "\n",
    "test_data = TestData(execution_entity_df, artifacts_df, artifact_info_df, tests_df, execution_time_df, failures_df)\n",
    "# Now you can use test_data to test your function\n",
    "\n",
    "\n"
   ]
  },
  {
   "cell_type": "code",
   "execution_count": 10,
   "metadata": {},
   "outputs": [
    {
     "data": {
      "application/vnd.plotly.v1+json": {
       "config": {
        "plotlyServerURL": "https://plot.ly"
       },
       "data": [
        {
         "hovertemplate": "Error=Error1<br>Category=%{x}<br>value=%{y}<extra></extra>",
         "legendgroup": "Error1",
         "marker": {
          "color": "rgb(103,0,31)",
          "pattern": {
           "shape": ""
          }
         },
         "name": "Error1",
         "orientation": "v",
         "showlegend": true,
         "textposition": "auto",
         "type": "bar",
         "x": [
          "A",
          "B"
         ],
         "xaxis": "x",
         "y": {
          "bdata": "AQE=",
          "dtype": "i1"
         },
         "yaxis": "y"
        },
        {
         "hovertemplate": "Error=Error2<br>Category=%{x}<br>value=%{y}<extra></extra>",
         "legendgroup": "Error2",
         "marker": {
          "color": "rgb(178,24,43)",
          "pattern": {
           "shape": ""
          }
         },
         "name": "Error2",
         "orientation": "v",
         "showlegend": true,
         "textposition": "auto",
         "type": "bar",
         "x": [
          "A",
          "B"
         ],
         "xaxis": "x",
         "y": {
          "bdata": "AQE=",
          "dtype": "i1"
         },
         "yaxis": "y"
        },
        {
         "hovertemplate": "Error=Error3<br>Category=%{x}<br>value=%{y}<extra></extra>",
         "legendgroup": "Error3",
         "marker": {
          "color": "rgb(214,96,77)",
          "pattern": {
           "shape": ""
          }
         },
         "name": "Error3",
         "orientation": "v",
         "showlegend": true,
         "textposition": "auto",
         "type": "bar",
         "x": [
          "A",
          "B"
         ],
         "xaxis": "x",
         "y": {
          "bdata": "AQE=",
          "dtype": "i1"
         },
         "yaxis": "y"
        }
       ],
       "layout": {
        "barmode": "stack",
        "legend": {
         "title": {
          "text": "Error"
         },
         "tracegroupgap": 0
        },
        "margin": {
         "t": 60
        },
        "template": {
         "data": {
          "bar": [
           {
            "error_x": {
             "color": "#2a3f5f"
            },
            "error_y": {
             "color": "#2a3f5f"
            },
            "marker": {
             "line": {
              "color": "#E5ECF6",
              "width": 0.5
             },
             "pattern": {
              "fillmode": "overlay",
              "size": 10,
              "solidity": 0.2
             }
            },
            "type": "bar"
           }
          ],
          "barpolar": [
           {
            "marker": {
             "line": {
              "color": "#E5ECF6",
              "width": 0.5
             },
             "pattern": {
              "fillmode": "overlay",
              "size": 10,
              "solidity": 0.2
             }
            },
            "type": "barpolar"
           }
          ],
          "carpet": [
           {
            "aaxis": {
             "endlinecolor": "#2a3f5f",
             "gridcolor": "white",
             "linecolor": "white",
             "minorgridcolor": "white",
             "startlinecolor": "#2a3f5f"
            },
            "baxis": {
             "endlinecolor": "#2a3f5f",
             "gridcolor": "white",
             "linecolor": "white",
             "minorgridcolor": "white",
             "startlinecolor": "#2a3f5f"
            },
            "type": "carpet"
           }
          ],
          "choropleth": [
           {
            "colorbar": {
             "outlinewidth": 0,
             "ticks": ""
            },
            "type": "choropleth"
           }
          ],
          "contour": [
           {
            "colorbar": {
             "outlinewidth": 0,
             "ticks": ""
            },
            "colorscale": [
             [
              0,
              "#0d0887"
             ],
             [
              0.1111111111111111,
              "#46039f"
             ],
             [
              0.2222222222222222,
              "#7201a8"
             ],
             [
              0.3333333333333333,
              "#9c179e"
             ],
             [
              0.4444444444444444,
              "#bd3786"
             ],
             [
              0.5555555555555556,
              "#d8576b"
             ],
             [
              0.6666666666666666,
              "#ed7953"
             ],
             [
              0.7777777777777778,
              "#fb9f3a"
             ],
             [
              0.8888888888888888,
              "#fdca26"
             ],
             [
              1,
              "#f0f921"
             ]
            ],
            "type": "contour"
           }
          ],
          "contourcarpet": [
           {
            "colorbar": {
             "outlinewidth": 0,
             "ticks": ""
            },
            "type": "contourcarpet"
           }
          ],
          "heatmap": [
           {
            "colorbar": {
             "outlinewidth": 0,
             "ticks": ""
            },
            "colorscale": [
             [
              0,
              "#0d0887"
             ],
             [
              0.1111111111111111,
              "#46039f"
             ],
             [
              0.2222222222222222,
              "#7201a8"
             ],
             [
              0.3333333333333333,
              "#9c179e"
             ],
             [
              0.4444444444444444,
              "#bd3786"
             ],
             [
              0.5555555555555556,
              "#d8576b"
             ],
             [
              0.6666666666666666,
              "#ed7953"
             ],
             [
              0.7777777777777778,
              "#fb9f3a"
             ],
             [
              0.8888888888888888,
              "#fdca26"
             ],
             [
              1,
              "#f0f921"
             ]
            ],
            "type": "heatmap"
           }
          ],
          "histogram": [
           {
            "marker": {
             "pattern": {
              "fillmode": "overlay",
              "size": 10,
              "solidity": 0.2
             }
            },
            "type": "histogram"
           }
          ],
          "histogram2d": [
           {
            "colorbar": {
             "outlinewidth": 0,
             "ticks": ""
            },
            "colorscale": [
             [
              0,
              "#0d0887"
             ],
             [
              0.1111111111111111,
              "#46039f"
             ],
             [
              0.2222222222222222,
              "#7201a8"
             ],
             [
              0.3333333333333333,
              "#9c179e"
             ],
             [
              0.4444444444444444,
              "#bd3786"
             ],
             [
              0.5555555555555556,
              "#d8576b"
             ],
             [
              0.6666666666666666,
              "#ed7953"
             ],
             [
              0.7777777777777778,
              "#fb9f3a"
             ],
             [
              0.8888888888888888,
              "#fdca26"
             ],
             [
              1,
              "#f0f921"
             ]
            ],
            "type": "histogram2d"
           }
          ],
          "histogram2dcontour": [
           {
            "colorbar": {
             "outlinewidth": 0,
             "ticks": ""
            },
            "colorscale": [
             [
              0,
              "#0d0887"
             ],
             [
              0.1111111111111111,
              "#46039f"
             ],
             [
              0.2222222222222222,
              "#7201a8"
             ],
             [
              0.3333333333333333,
              "#9c179e"
             ],
             [
              0.4444444444444444,
              "#bd3786"
             ],
             [
              0.5555555555555556,
              "#d8576b"
             ],
             [
              0.6666666666666666,
              "#ed7953"
             ],
             [
              0.7777777777777778,
              "#fb9f3a"
             ],
             [
              0.8888888888888888,
              "#fdca26"
             ],
             [
              1,
              "#f0f921"
             ]
            ],
            "type": "histogram2dcontour"
           }
          ],
          "mesh3d": [
           {
            "colorbar": {
             "outlinewidth": 0,
             "ticks": ""
            },
            "type": "mesh3d"
           }
          ],
          "parcoords": [
           {
            "line": {
             "colorbar": {
              "outlinewidth": 0,
              "ticks": ""
             }
            },
            "type": "parcoords"
           }
          ],
          "pie": [
           {
            "automargin": true,
            "type": "pie"
           }
          ],
          "scatter": [
           {
            "fillpattern": {
             "fillmode": "overlay",
             "size": 10,
             "solidity": 0.2
            },
            "type": "scatter"
           }
          ],
          "scatter3d": [
           {
            "line": {
             "colorbar": {
              "outlinewidth": 0,
              "ticks": ""
             }
            },
            "marker": {
             "colorbar": {
              "outlinewidth": 0,
              "ticks": ""
             }
            },
            "type": "scatter3d"
           }
          ],
          "scattercarpet": [
           {
            "marker": {
             "colorbar": {
              "outlinewidth": 0,
              "ticks": ""
             }
            },
            "type": "scattercarpet"
           }
          ],
          "scattergeo": [
           {
            "marker": {
             "colorbar": {
              "outlinewidth": 0,
              "ticks": ""
             }
            },
            "type": "scattergeo"
           }
          ],
          "scattergl": [
           {
            "marker": {
             "colorbar": {
              "outlinewidth": 0,
              "ticks": ""
             }
            },
            "type": "scattergl"
           }
          ],
          "scattermap": [
           {
            "marker": {
             "colorbar": {
              "outlinewidth": 0,
              "ticks": ""
             }
            },
            "type": "scattermap"
           }
          ],
          "scattermapbox": [
           {
            "marker": {
             "colorbar": {
              "outlinewidth": 0,
              "ticks": ""
             }
            },
            "type": "scattermapbox"
           }
          ],
          "scatterpolar": [
           {
            "marker": {
             "colorbar": {
              "outlinewidth": 0,
              "ticks": ""
             }
            },
            "type": "scatterpolar"
           }
          ],
          "scatterpolargl": [
           {
            "marker": {
             "colorbar": {
              "outlinewidth": 0,
              "ticks": ""
             }
            },
            "type": "scatterpolargl"
           }
          ],
          "scatterternary": [
           {
            "marker": {
             "colorbar": {
              "outlinewidth": 0,
              "ticks": ""
             }
            },
            "type": "scatterternary"
           }
          ],
          "surface": [
           {
            "colorbar": {
             "outlinewidth": 0,
             "ticks": ""
            },
            "colorscale": [
             [
              0,
              "#0d0887"
             ],
             [
              0.1111111111111111,
              "#46039f"
             ],
             [
              0.2222222222222222,
              "#7201a8"
             ],
             [
              0.3333333333333333,
              "#9c179e"
             ],
             [
              0.4444444444444444,
              "#bd3786"
             ],
             [
              0.5555555555555556,
              "#d8576b"
             ],
             [
              0.6666666666666666,
              "#ed7953"
             ],
             [
              0.7777777777777778,
              "#fb9f3a"
             ],
             [
              0.8888888888888888,
              "#fdca26"
             ],
             [
              1,
              "#f0f921"
             ]
            ],
            "type": "surface"
           }
          ],
          "table": [
           {
            "cells": {
             "fill": {
              "color": "#EBF0F8"
             },
             "line": {
              "color": "white"
             }
            },
            "header": {
             "fill": {
              "color": "#C8D4E3"
             },
             "line": {
              "color": "white"
             }
            },
            "type": "table"
           }
          ]
         },
         "layout": {
          "annotationdefaults": {
           "arrowcolor": "#2a3f5f",
           "arrowhead": 0,
           "arrowwidth": 1
          },
          "autotypenumbers": "strict",
          "coloraxis": {
           "colorbar": {
            "outlinewidth": 0,
            "ticks": ""
           }
          },
          "colorscale": {
           "diverging": [
            [
             0,
             "#8e0152"
            ],
            [
             0.1,
             "#c51b7d"
            ],
            [
             0.2,
             "#de77ae"
            ],
            [
             0.3,
             "#f1b6da"
            ],
            [
             0.4,
             "#fde0ef"
            ],
            [
             0.5,
             "#f7f7f7"
            ],
            [
             0.6,
             "#e6f5d0"
            ],
            [
             0.7,
             "#b8e186"
            ],
            [
             0.8,
             "#7fbc41"
            ],
            [
             0.9,
             "#4d9221"
            ],
            [
             1,
             "#276419"
            ]
           ],
           "sequential": [
            [
             0,
             "#0d0887"
            ],
            [
             0.1111111111111111,
             "#46039f"
            ],
            [
             0.2222222222222222,
             "#7201a8"
            ],
            [
             0.3333333333333333,
             "#9c179e"
            ],
            [
             0.4444444444444444,
             "#bd3786"
            ],
            [
             0.5555555555555556,
             "#d8576b"
            ],
            [
             0.6666666666666666,
             "#ed7953"
            ],
            [
             0.7777777777777778,
             "#fb9f3a"
            ],
            [
             0.8888888888888888,
             "#fdca26"
            ],
            [
             1,
             "#f0f921"
            ]
           ],
           "sequentialminus": [
            [
             0,
             "#0d0887"
            ],
            [
             0.1111111111111111,
             "#46039f"
            ],
            [
             0.2222222222222222,
             "#7201a8"
            ],
            [
             0.3333333333333333,
             "#9c179e"
            ],
            [
             0.4444444444444444,
             "#bd3786"
            ],
            [
             0.5555555555555556,
             "#d8576b"
            ],
            [
             0.6666666666666666,
             "#ed7953"
            ],
            [
             0.7777777777777778,
             "#fb9f3a"
            ],
            [
             0.8888888888888888,
             "#fdca26"
            ],
            [
             1,
             "#f0f921"
            ]
           ]
          },
          "colorway": [
           "#636efa",
           "#EF553B",
           "#00cc96",
           "#ab63fa",
           "#FFA15A",
           "#19d3f3",
           "#FF6692",
           "#B6E880",
           "#FF97FF",
           "#FECB52"
          ],
          "font": {
           "color": "#2a3f5f"
          },
          "geo": {
           "bgcolor": "white",
           "lakecolor": "white",
           "landcolor": "#E5ECF6",
           "showlakes": true,
           "showland": true,
           "subunitcolor": "white"
          },
          "hoverlabel": {
           "align": "left"
          },
          "hovermode": "closest",
          "mapbox": {
           "style": "light"
          },
          "paper_bgcolor": "white",
          "plot_bgcolor": "#E5ECF6",
          "polar": {
           "angularaxis": {
            "gridcolor": "white",
            "linecolor": "white",
            "ticks": ""
           },
           "bgcolor": "#E5ECF6",
           "radialaxis": {
            "gridcolor": "white",
            "linecolor": "white",
            "ticks": ""
           }
          },
          "scene": {
           "xaxis": {
            "backgroundcolor": "#E5ECF6",
            "gridcolor": "white",
            "gridwidth": 2,
            "linecolor": "white",
            "showbackground": true,
            "ticks": "",
            "zerolinecolor": "white"
           },
           "yaxis": {
            "backgroundcolor": "#E5ECF6",
            "gridcolor": "white",
            "gridwidth": 2,
            "linecolor": "white",
            "showbackground": true,
            "ticks": "",
            "zerolinecolor": "white"
           },
           "zaxis": {
            "backgroundcolor": "#E5ECF6",
            "gridcolor": "white",
            "gridwidth": 2,
            "linecolor": "white",
            "showbackground": true,
            "ticks": "",
            "zerolinecolor": "white"
           }
          },
          "shapedefaults": {
           "line": {
            "color": "#2a3f5f"
           }
          },
          "ternary": {
           "aaxis": {
            "gridcolor": "white",
            "linecolor": "white",
            "ticks": ""
           },
           "baxis": {
            "gridcolor": "white",
            "linecolor": "white",
            "ticks": ""
           },
           "bgcolor": "#E5ECF6",
           "caxis": {
            "gridcolor": "white",
            "linecolor": "white",
            "ticks": ""
           }
          },
          "title": {
           "x": 0.05
          },
          "xaxis": {
           "automargin": true,
           "gridcolor": "white",
           "linecolor": "white",
           "ticks": "",
           "title": {
            "standoff": 15
           },
           "zerolinecolor": "white",
           "zerolinewidth": 2
          },
          "yaxis": {
           "automargin": true,
           "gridcolor": "white",
           "linecolor": "white",
           "ticks": "",
           "title": {
            "standoff": 15
           },
           "zerolinecolor": "white",
           "zerolinewidth": 2
          }
         }
        },
        "title": {
         "text": "Distribuição de erros por categoria"
        },
        "xaxis": {
         "anchor": "y",
         "domain": [
          0,
          1
         ],
         "title": {
          "text": "Categoria"
         }
        },
        "yaxis": {
         "anchor": "x",
         "domain": [
          0,
          1
         ],
         "title": {
          "text": "Contagem Total"
         }
        }
       }
      }
     },
     "metadata": {},
     "output_type": "display_data"
    }
   ],
   "source": [
    "d = DataPlotter(test_data)\n",
    "#d.test_name_error_distribution_pie_chart()\n",
    "d.plot_category_errors_bar()\n",
    "#d.categories_failures_passed_rate()"
   ]
  },
  {
   "cell_type": "markdown",
   "metadata": {},
   "source": [
    "## Schemes"
   ]
  },
  {
   "cell_type": "markdown",
   "metadata": {},
   "source": [
    "Execution Pipeline: \n",
    "    1. Script gera os dados de datetime e total time\n",
    "\n",
    "\n",
    "    Script > Execution_DateTime, Run_Time\n",
    "    Run Tests or download artifacts (Github)\n",
    "    Put generated artifacts into a bucket adressing essential info into its name\n",
    "    Extract the test, execution time and failures info out of the pytest_artifact\n"
   ]
  },
  {
   "cell_type": "markdown",
   "metadata": {},
   "source": [
    "Note:   It might be helpful to create a Run_Id\n",
    "        the summary does not to have a run id since it will be used mostly for individual runs\n",
    "\n",
    "__create_df__,__get_time__: classes: ExecutionTime, Tests (Name, Category) #ExecutionTime Name is a FK from Test (Name)\n",
    "\n",
    "__create_title__: ExecutionEntity\n",
    "\n",
    "__create_errors_summary__: classes: Failures, Test(Name, Category)\n",
    "\n",
    "__PdfDataPlotter__: This one is the generator of graphics it will need more than whats expected from the PdfMaker class, so it should be called earlier, generate the graphics as useful images which will be retrieved and added on the pdf"
   ]
  },
  {
   "cell_type": "markdown",
   "metadata": {},
   "source": [
    "## Dataclasses DFs Declaration"
   ]
  },
  {
   "cell_type": "code",
   "execution_count": 5,
   "metadata": {},
   "outputs": [
    {
     "data": {
      "text/plain": [
       "Execution_DateTime    datetime64[ns]\n",
       "Endpoint                      object\n",
       "Run_Time                     float64\n",
       "dtype: object"
      ]
     },
     "execution_count": 5,
     "metadata": {},
     "output_type": "execute_result"
    }
   ],
   "source": [
    "# Create an empty instance (or use default values)\n",
    "empty_execution_entity = ExecutionEntity(\n",
    "    Execution_DateTime=np.datetime64(\"NaT\"),  # Not a Time\n",
    "    Endpoint=\"\",\n",
    "    Run_Time=0.0\n",
    ")\n",
    "\n",
    "# Convert to DataFrame\n",
    "df_execution_entity = pd.DataFrame([asdict(empty_execution_entity)])\n",
    "df_execution_entity.dtypes"
   ]
  }
 ],
 "metadata": {
  "kernelspec": {
   "display_name": "Python 3",
   "language": "python",
   "name": "python3"
  },
  "language_info": {
   "codemirror_mode": {
    "name": "ipython",
    "version": 3
   },
   "file_extension": ".py",
   "mimetype": "text/x-python",
   "name": "python",
   "nbconvert_exporter": "python",
   "pygments_lexer": "ipython3",
   "version": "3.10.12"
  }
 },
 "nbformat": 4,
 "nbformat_minor": 2
}
