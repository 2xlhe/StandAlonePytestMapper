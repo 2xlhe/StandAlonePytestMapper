{
 "cells": [
  {
   "cell_type": "code",
   "execution_count": 1,
   "metadata": {},
   "outputs": [],
   "source": [
    "from dataclasses import dataclass, asdict, fields\n",
    "from typing import Optional\n",
    "import numpy as np\n",
    "import pandas as pd\n",
    "import plotly.express as px\n",
    "from dataPlotter import DataPlotter\n"
   ]
  },
  {
   "cell_type": "markdown",
   "metadata": {},
   "source": [
    "## Dataclasses Declaration"
   ]
  },
  {
   "cell_type": "code",
   "execution_count": 2,
   "metadata": {},
   "outputs": [],
   "source": [
    "@dataclass\n",
    "class ExecutionEntity:\n",
    "    Execution_Datetime: np.datetime64\n",
    "    Endpoint: Optional[str]\n",
    "    Run_Time: Optional[float]\n",
    "\n",
    "@dataclass\n",
    "class Artifact:\n",
    "    Name: str\n",
    "    Execution_Datetime: np.datetime64\n",
    "\n",
    "@dataclass\n",
    "class ArtifactInfo:\n",
    "    Artifact_Name: str\n",
    "    URL: Optional[str]   #url to the object stored on the cloud, can be null\n",
    "    Artifact_Type: str\n",
    "    File_Extension: str\n",
    "\n",
    "@dataclass\n",
    "class Tests:\n",
    "    Artifact_Name: str\n",
    "    Name: str\n",
    "    Category: str\n",
    "    Status: str\n",
    "    Arguments: Optional[str]  # Sometimes details the arguments they receive \n",
    "    Execution_Datetime: np.datetime64\n",
    "\n",
    "@dataclass\n",
    "class ExecutionTime:\n",
    "    Execution_name: str  # Can be Test_Name, fixture, or function\n",
    "    Execution_type: str\n",
    "    Execution_Datetime: np.datetime64\n",
    "    Number_Runs: int\n",
    "    Avg_Time: float\n",
    "    Min_Time: float\n",
    "    Total_Time: float\n",
    "\n",
    "@dataclass\n",
    "class Failures:\n",
    "    Artifact_Name: str\n",
    "    Test_Name: str\n",
    "    Execution_Datetime: np.datetime64\n",
    "    Error: str\n",
    "    Details: Optional[str]  # Retrieved pytest error description\n",
    "\n",
    "@dataclass\n",
    "class TestData:\n",
    "    execution_entity: list[ExecutionEntity]\n",
    "    artifact: list[Artifact]\n",
    "    tests: list[Tests]\n",
    "    execution_time: list[ExecutionTime]\n",
    "    failures: list[Failures]\n",
    "\n",
    "def get_field_names(Dataclass: type) -> list[str]:\n",
    "    return [field.name for field in fields(Dataclass)]\n"
   ]
  },
  {
   "cell_type": "code",
   "execution_count": 3,
   "metadata": {},
   "outputs": [],
   "source": [
    "from logExtractor import PytestArtifactLogExtractor\n",
    "p  = PytestArtifactLogExtractor('pytest_output_cold_storage.20231005T140509.log')"
   ]
  },
  {
   "cell_type": "code",
   "execution_count": 4,
   "metadata": {},
   "outputs": [],
   "source": [
    "execution_entity, artifact, tests, execution_time, failures = p.log_to_df()"
   ]
  },
  {
   "cell_type": "code",
   "execution_count": 5,
   "metadata": {},
   "outputs": [],
   "source": [
    "execution_entity_df = pd.DataFrame([asdict(execution_entity)])\n",
    "artifact_df =pd.DataFrame([asdict(artifact)])\n",
    "tests_df = pd.DataFrame(list(map(lambda t: asdict(t), tests)))\n",
    "execution_time_df = pd.DataFrame(asdict(execution_time))\n",
    "failures_df = pd.DataFrame(asdict(failures))\n",
    "a=1\n"
   ]
  },
  {
   "cell_type": "code",
   "execution_count": 6,
   "metadata": {},
   "outputs": [
    {
     "data": {
      "text/plain": [
       "np.float64(0.8)"
      ]
     },
     "execution_count": 6,
     "metadata": {},
     "output_type": "execute_result"
    }
   ],
   "source": [
    "tests_df['Status'].value_counts('Status').get('PASSED')"
   ]
  },
  {
   "cell_type": "code",
   "execution_count": 7,
   "metadata": {},
   "outputs": [],
   "source": [
    "t = TestData(execution_entity=execution_entity_df, artifact=artifact_df, tests=tests_df, execution_time=execution_time_df, failures=failures_df)"
   ]
  },
  {
   "cell_type": "code",
   "execution_count": 8,
   "metadata": {},
   "outputs": [
    {
     "data": {
      "application/vnd.microsoft.datawrangler.viewer.v0+json": {
       "columns": [
        {
         "name": "Category",
         "rawType": "object",
         "type": "string"
        },
        {
         "name": "FAILED",
         "rawType": "int64",
         "type": "integer"
        },
        {
         "name": "PASSED",
         "rawType": "int64",
         "type": "integer"
        }
       ],
       "conversionMethod": "pd.DataFrame",
       "ref": "cc740e8c-ec07-47ca-93c1-3653e72bdeaf",
       "rows": [
        [
         "cold_storage_test.py",
         "1",
         "4"
        ]
       ],
       "shape": {
        "columns": 2,
        "rows": 1
       }
      },
      "text/html": [
       "<div>\n",
       "<style scoped>\n",
       "    .dataframe tbody tr th:only-of-type {\n",
       "        vertical-align: middle;\n",
       "    }\n",
       "\n",
       "    .dataframe tbody tr th {\n",
       "        vertical-align: top;\n",
       "    }\n",
       "\n",
       "    .dataframe thead th {\n",
       "        text-align: right;\n",
       "    }\n",
       "</style>\n",
       "<table border=\"1\" class=\"dataframe\">\n",
       "  <thead>\n",
       "    <tr style=\"text-align: right;\">\n",
       "      <th>Status</th>\n",
       "      <th>FAILED</th>\n",
       "      <th>PASSED</th>\n",
       "    </tr>\n",
       "    <tr>\n",
       "      <th>Category</th>\n",
       "      <th></th>\n",
       "      <th></th>\n",
       "    </tr>\n",
       "  </thead>\n",
       "  <tbody>\n",
       "    <tr>\n",
       "      <th>cold_storage_test.py</th>\n",
       "      <td>1</td>\n",
       "      <td>4</td>\n",
       "    </tr>\n",
       "  </tbody>\n",
       "</table>\n",
       "</div>"
      ],
      "text/plain": [
       "Status                FAILED  PASSED\n",
       "Category                            \n",
       "cold_storage_test.py       1       4"
      ]
     },
     "metadata": {},
     "output_type": "display_data"
    }
   ],
   "source": [
    "from relatory import PdfMaker\n",
    "pdf = PdfMaker(t)\n",
    "\n",
    "pdf.create_pdf()"
   ]
  },
  {
   "cell_type": "markdown",
   "metadata": {},
   "source": [
    "## Schemes"
   ]
  },
  {
   "cell_type": "markdown",
   "metadata": {},
   "source": [
    "Execution Pipeline: \n",
    "    1. Script gera os dados de datetime e total time\n",
    "\n",
    "\n",
    "    Script > Execution_DateTime, Run_Time\n",
    "    Run Tests or download artifacts (Github)\n",
    "    Put generated artifacts into a bucket adressing essential info into its name\n",
    "    Extract the test, execution time and failures info out of the pytest_artifact\n"
   ]
  },
  {
   "cell_type": "markdown",
   "metadata": {},
   "source": [
    "Note:   It might be helpful to create a Run_Id\n",
    "        the summary does not to have a run id since it will be used mostly for individual runs\n",
    "\n",
    "__create_df__,__get_time__: classes: ExecutionTime, Tests (Name, Category) #ExecutionTime Name is a FK from Test (Name)\n",
    "\n",
    "__create_title__: ExecutionEntity\n",
    "\n",
    "__create_errors_summary__: classes: Failures, Test(Name, Category)\n",
    "\n",
    "__PdfDataPlotter__: This one is the generator of graphics it will need more than whats expected from the PdfMaker class, so it should be called earlier, generate the graphics as useful images which will be retrieved and added on the pdf"
   ]
  },
  {
   "cell_type": "markdown",
   "metadata": {},
   "source": [
    "## Dataclasses DFs Declaration"
   ]
  },
  {
   "cell_type": "code",
   "execution_count": 9,
   "metadata": {},
   "outputs": [
    {
     "data": {
      "text/plain": [
       "Execution_Datetime    datetime64[ns]\n",
       "Endpoint                      object\n",
       "Run_Time                     float64\n",
       "dtype: object"
      ]
     },
     "execution_count": 9,
     "metadata": {},
     "output_type": "execute_result"
    }
   ],
   "source": [
    "# Create an empty instance (or use default values)\n",
    "empty_execution_entity = ExecutionEntity(\n",
    "    Execution_Datetime=np.datetime64(\"NaT\"),  # Not a Time\n",
    "    Endpoint=\"\",\n",
    "    Run_Time=0.0\n",
    ")\n",
    "\n",
    "# Convert to DataFrame\n",
    "df_execution_entity = pd.DataFrame([asdict(empty_execution_entity)])\n",
    "df_execution_entity.dtypes"
   ]
  }
 ],
 "metadata": {
  "kernelspec": {
   "display_name": "Python 3",
   "language": "python",
   "name": "python3"
  },
  "language_info": {
   "codemirror_mode": {
    "name": "ipython",
    "version": 3
   },
   "file_extension": ".py",
   "mimetype": "text/x-python",
   "name": "python",
   "nbconvert_exporter": "python",
   "pygments_lexer": "ipython3",
   "version": "3.10.12"
  }
 },
 "nbformat": 4,
 "nbformat_minor": 2
}
